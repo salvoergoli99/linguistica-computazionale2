{
  "cells": [
    {
      "cell_type": "code",
      "execution_count": null,
      "metadata": {
        "id": "-hhx11aREUmJ"
      },
      "outputs": [],
      "source": [
        "import pandas as pd\n",
        "import os\n",
        "import matplotlib as plt\n",
        "from sklearn.preprocessing import MinMaxScaler\n",
        "from sklearn.metrics import classification_report, ConfusionMatrixDisplay, confusion_matrix, accuracy_score\n",
        "from sklearn.model_selection import KFold\n",
        "import numpy as np"
      ]
    },
    {
      "cell_type": "code",
      "execution_count": null,
      "metadata": {
        "id": "VPDrMS6PEdce"
      },
      "outputs": [],
      "source": [
        "path_train = 'dataset/training_ironita2018_anon_REV_.csv'\n",
        "path_test =  'dataset/test_gold_ironita2018_anon_REV_.csv'\n",
        "out_dir = 'data/profiling_input/'"
      ]
    },
    {
      "cell_type": "code",
      "execution_count": null,
      "metadata": {
        "id": "KRdjx6kIJXe7"
      },
      "outputs": [],
      "source": [
        "df1 = pd.read_csv(path_train, delimiter = \";\")\n",
        "df2 = pd.read_csv(path_test, delimiter = \";\")"
      ]
    },
    {
      "cell_type": "code",
      "execution_count": null,
      "metadata": {
        "id": "8f5lPMJwYhSu"
      },
      "outputs": [],
      "source": [
        "#creazione delle nuove features\n",
        "def count_exclamation(text):\n",
        "  return text.count('!')\n",
        "\n",
        "def count_question_mark(text):\n",
        "  return text.count('?')\n",
        "\n",
        "def count_dot(text):\n",
        "  return text.count('.')\n",
        "\n",
        "def negative_word(text):\n",
        "  return text.count(' non ')\n"
      ]
    },
    {
      "cell_type": "code",
      "execution_count": null,
      "metadata": {
        "id": "o4rukLacYjTP"
      },
      "outputs": [],
      "source": [
        "df1['exclamation_count_df1'] = df1['text'].apply(lambda x: count_exclamation(x))\n",
        "df2['exclamation_count_df2'] = df2['text'].apply(lambda x: count_exclamation(x))"
      ]
    },
    {
      "cell_type": "code",
      "execution_count": null,
      "metadata": {
        "id": "qomFMJq23gR1"
      },
      "outputs": [],
      "source": [
        "df1['question_count_df1'] = df1['text'].apply(lambda x: count_question_mark(x))\n",
        "df2['question_count_df2'] = df2['text'].apply(lambda x: count_question_mark(x))"
      ]
    },
    {
      "cell_type": "code",
      "execution_count": null,
      "metadata": {
        "id": "vKTGExjA8mLU"
      },
      "outputs": [],
      "source": [
        "df1['count_dot_df1'] = df1['text'].apply(lambda x: count_dot(x))\n",
        "df2['count_dot_df2'] = df2['text'].apply(lambda x: count_dot(x))"
      ]
    },
    {
      "cell_type": "code",
      "execution_count": null,
      "metadata": {},
      "outputs": [],
      "source": [
        "df1['negative_word_df1'] = df1['text'].apply(lambda x: negative_word(x))\n",
        "df2['negative_word_df2'] = df2['text'].apply(lambda x: negative_word(x))"
      ]
    },
    {
      "cell_type": "code",
      "execution_count": null,
      "metadata": {
        "id": "A13ZhwOZVOBE"
      },
      "outputs": [],
      "source": [
        "for id, tweet_text, irony, sarcasm in zip(df1['id'], df1['text'], df1['irony'], df1['sarcasm']):\n",
        "    file_name = f\"train{id}_{irony}_{sarcasm}.txt\"\n",
        "    file_path = os.path.join(out_dir, file_name)\n",
        "    with open(file_path, 'w', encoding=\"utf-8\") as f:\n",
        "        f.write(tweet_text)"
      ]
    },
    {
      "cell_type": "code",
      "execution_count": null,
      "metadata": {
        "colab": {
          "base_uri": "https://localhost:8080/"
        },
        "id": "m9LuihAnX_Hr",
        "outputId": "7b7c45ea-ca00-4e86-f4cc-033e12763935"
      },
      "outputs": [],
      "source": [
        "input_path = 'data/profiling_input'\n",
        "\n",
        "num_files = len(os.listdir(input_path))\n",
        "\n",
        "print(f\"Il numero di file nella cartella '{input_path}' è: {num_files}\")"
      ]
    },
    {
      "cell_type": "code",
      "execution_count": null,
      "metadata": {
        "id": "umsSQwhNWg15"
      },
      "outputs": [],
      "source": [
        "for id, tweet_text, irony, sarcasm in zip(df2['id'], df2['text'], df2['irony'], df2['sarcasm']):\n",
        "    file_name = f\"test{id}_{irony}_{sarcasm}.txt\"\n",
        "    file_path = os.path.join(out_dir, file_name)\n",
        "    with open(file_path, 'w', encoding = \"utf-8\") as f:\n",
        "        f.write(tweet_text)"
      ]
    },
    {
      "cell_type": "code",
      "execution_count": null,
      "metadata": {
        "id": "4XSBNTSJfVn7"
      },
      "outputs": [],
      "source": [
        "output_path = 'data/profiling_output/10380.csv'"
      ]
    },
    {
      "cell_type": "code",
      "execution_count": null,
      "metadata": {
        "colab": {
          "base_uri": "https://localhost:8080/",
          "height": 443
        },
        "id": "XooPvIpkHm3e",
        "outputId": "ad74f106-5c32-4aa1-fc2d-ef3db32170f0"
      },
      "outputs": [],
      "source": [
        "df3 = pd.read_csv(output_path, delimiter = \"\\t\")\n",
        "df3"
      ]
    },
    {
      "cell_type": "code",
      "execution_count": null,
      "metadata": {
        "id": "QhVAWUAmdYdw"
      },
      "outputs": [],
      "source": [
        "#creazione della colonna 'id', che servirà per effettuare il merging dei vari dataframe\n",
        "df3['id'] = df3['Filename'].str.extract(r'(\\d+)').astype(dtype = np.int64)"
      ]
    },
    {
      "cell_type": "code",
      "execution_count": null,
      "metadata": {
        "id": "b3uTmGqYddCn"
      },
      "outputs": [],
      "source": [
        "df3 = df3.merge(df1[['id', 'count_dot_df1']], on='id', how='left')\n",
        "df3 = df3.merge(df2[['id', 'count_dot_df2']], on='id', how='left')\n",
        "\n",
        "df3['dot_count'] = df3['count_dot_df2'].fillna(df3['count_dot_df1'])\n",
        "\n",
        "df3.drop(['count_dot_df1', 'count_dot_df2'], axis=1, inplace=True)\n"
      ]
    },
    {
      "cell_type": "code",
      "execution_count": null,
      "metadata": {
        "id": "UgKB8fMT5tOz"
      },
      "outputs": [],
      "source": [
        "df3 = df3.merge(df1[['id', 'question_count_df1']], on='id', how='left')\n",
        "df3 = df3.merge(df2[['id', 'question_count_df2']], on='id', how='left')\n",
        "\n",
        "df3['question_count'] = df3['question_count_df2'].fillna(df3['question_count_df1'])\n",
        "\n",
        "df3.drop(['question_count_df1', 'question_count_df2'], axis=1, inplace=True)"
      ]
    },
    {
      "cell_type": "code",
      "execution_count": null,
      "metadata": {
        "id": "IqPjW5vo-nuB"
      },
      "outputs": [],
      "source": [
        "df3 = df3.merge(df1[['id', 'exclamation_count_df1']], on='id', how='left')\n",
        "df3 = df3.merge(df2[['id', 'exclamation_count_df2']], on='id', how='left')\n",
        "\n",
        "df3['exclamation_count'] = df3['exclamation_count_df2'].fillna(df3['exclamation_count_df1'])\n",
        "\n",
        "df3.drop(['exclamation_count_df1', 'exclamation_count_df2'], axis=1, inplace=True)"
      ]
    },
    {
      "cell_type": "code",
      "execution_count": null,
      "metadata": {},
      "outputs": [],
      "source": [
        "df3 = df3.merge(df1[['id', 'negative_word_df1']], on='id', how='left')\n",
        "df3 = df3.merge(df2[['id', 'negative_word_df2']], on='id', how='left')\n",
        "\n",
        "df3['negative_word'] = df3['negative_word_df2'].fillna(df3['negative_word_df1'])\n",
        "\n",
        "df3.drop(['negative_word_df1', 'negative_word_df2'], axis=1, inplace=True)"
      ]
    },
    {
      "cell_type": "code",
      "execution_count": null,
      "metadata": {
        "id": "hU1KeWVjliK8"
      },
      "outputs": [],
      "source": [
        "df3.drop('id', axis=1, inplace=True)"
      ]
    },
    {
      "cell_type": "code",
      "execution_count": null,
      "metadata": {
        "colab": {
          "base_uri": "https://localhost:8080/"
        },
        "id": "SdYEAiE2BYOP",
        "outputId": "9058ab29-2e71-4fee-c462-ca658b04098b"
      },
      "outputs": [],
      "source": [
        "#creazione di un'ulteriore colonna, che rappresenta la somma cumulata delle quattro features aggiunte\n",
        "last_three_columns = df3.iloc[:, -4:]\n",
        "\n",
        "df3['custom_features'] = last_three_columns.sum(axis=1)\n",
        "\n",
        "print(df3)"
      ]
    },
    {
      "cell_type": "code",
      "execution_count": null,
      "metadata": {},
      "outputs": [],
      "source": [
        "#eliminazione delle colonne con un numero di zeri superiore al 90% \n",
        "num_rows = len(df3)\n",
        "\n",
        "threshold = num_rows * 0.90\n",
        "\n",
        "zero_counts = (df3 == 0).sum()\n",
        "\n",
        "selected_columns = zero_counts[zero_counts < threshold].index\n",
        "\n",
        "df3 = df3[selected_columns]\n",
        "\n",
        "print(df3)"
      ]
    },
    {
      "cell_type": "code",
      "execution_count": null,
      "metadata": {
        "colab": {
          "base_uri": "https://localhost:8080/"
        },
        "id": "C2pLzYpHf1Js",
        "outputId": "4aca4c51-6d8e-4295-c366-92e06de9697d"
      },
      "outputs": [],
      "source": [
        "dataset = []\n",
        "\n",
        "for index, row in df3.iterrows():\n",
        "    row_values = row.values.tolist()\n",
        "    dataset.append(row_values)\n",
        "\n",
        "print(dataset[0])"
      ]
    },
    {
      "cell_type": "code",
      "execution_count": null,
      "metadata": {
        "colab": {
          "base_uri": "https://localhost:8080/"
        },
        "id": "DclMuiDYgNN2",
        "outputId": "64432039-a4c5-487c-dcc8-0b22c2bb3863"
      },
      "outputs": [],
      "source": [
        "header = df3.columns\n",
        "feature_names = df3.columns[1:].tolist()\n",
        "print(len(feature_names))"
      ]
    },
    {
      "cell_type": "code",
      "execution_count": null,
      "metadata": {},
      "outputs": [],
      "source": [
        "len(feature_names)"
      ]
    },
    {
      "cell_type": "code",
      "execution_count": null,
      "metadata": {
        "id": "IrfZ5ZD3g6on"
      },
      "outputs": [],
      "source": [
        "def split_train_test(dataset):\n",
        "    train_dataset = []\n",
        "    test_dataset = []\n",
        "    for user_list in dataset:\n",
        "        file_name = user_list[0]\n",
        "        if 'train' in file_name:\n",
        "            train_dataset.append(user_list)\n",
        "        else:\n",
        "            test_dataset.append(user_list)\n",
        "    return train_dataset, test_dataset"
      ]
    },
    {
      "cell_type": "code",
      "execution_count": null,
      "metadata": {
        "colab": {
          "base_uri": "https://localhost:8080/"
        },
        "id": "4zTMIPj7g-Ps",
        "outputId": "8a4b5076-08c7-420a-8bd7-3b14f20b1813"
      },
      "outputs": [],
      "source": [
        "train_dataset, test_dataset = split_train_test(dataset)\n",
        "\n",
        "print('User training set:', len(train_dataset))\n",
        "print('User test set:', len(test_dataset))"
      ]
    },
    {
      "cell_type": "code",
      "execution_count": null,
      "metadata": {
        "colab": {
          "base_uri": "https://localhost:8080/"
        },
        "id": "uDeuAUsswYgD",
        "outputId": "08d331fc-8c28-4d2d-eea8-eb042cf5a73f"
      },
      "outputs": [],
      "source": [
        "user_0 = test_dataset[0]\n",
        "\n",
        "file_name_0 = user_0[0]\n",
        "print('File name:', file_name_0)\n",
        "\n",
        "file_name_0 = file_name_0[0:-len('.conllu')]\n",
        "print('File name senza estensione:', file_name_0)\n",
        "\n",
        "splitted_file_name = file_name_0.split('_')\n",
        "print('Split su _:', splitted_file_name)\n",
        "\n",
        "label = splitted_file_name[1]\n",
        "print('Label:', label)"
      ]
    },
    {
      "cell_type": "code",
      "execution_count": null,
      "metadata": {
        "id": "yKKvVzH5qTHx"
      },
      "outputs": [],
      "source": [
        "def create_label_train(dataset):\n",
        "    labels_irony = []\n",
        "    labels_sarcasm = []\n",
        "    for user_list in dataset:\n",
        "\n",
        "        file_name = user_list[0]\n",
        "        file_name = file_name[:-len('.conllu')]\n",
        "        splitted_file_name = file_name.split('_')\n",
        "\n",
        "        irony = splitted_file_name[2]\n",
        "        sarcasm = splitted_file_name[3]\n",
        "\n",
        "        labels_irony.append(irony)\n",
        "        labels_sarcasm.append(sarcasm)\n",
        "    return labels_irony, labels_sarcasm\n",
        "\n",
        "def create_label_test(dataset):\n",
        "    labels_irony = []\n",
        "    labels_sarcasm = []\n",
        "    for user_list in dataset:\n",
        "\n",
        "        file_name = user_list[0]\n",
        "        file_name = file_name[:-len('.conllu')]\n",
        "        splitted_file_name = file_name.split('_')\n",
        "\n",
        "        irony = splitted_file_name[2]\n",
        "        sarcasm = splitted_file_name[3]\n",
        "\n",
        "        labels_irony.append(irony)\n",
        "        labels_sarcasm.append(sarcasm)\n",
        "    return labels_irony, labels_sarcasm\n"
      ]
    },
    {
      "cell_type": "code",
      "execution_count": null,
      "metadata": {
        "id": "mFctuIaNqrMQ"
      },
      "outputs": [],
      "source": [
        "train_labels_irony, train_labels_sarcasm = create_label_train(train_dataset)\n",
        "test_labels_irony, test_labels_sarcasm = create_label_test(test_dataset)"
      ]
    },
    {
      "cell_type": "code",
      "execution_count": null,
      "metadata": {
        "colab": {
          "base_uri": "https://localhost:8080/"
        },
        "id": "shlxs07Sv6JG",
        "outputId": "055d3359-73a5-4793-fdce-fe3af9e9d2dc"
      },
      "outputs": [],
      "source": [
        "test_labels_irony"
      ]
    },
    {
      "cell_type": "code",
      "execution_count": null,
      "metadata": {
        "id": "Afk3elqVrmxM"
      },
      "outputs": [],
      "source": [
        "for doc in train_dataset:\n",
        "    doc.pop(0)\n",
        "\n",
        "for doc in test_dataset:\n",
        "    doc.pop(0)"
      ]
    },
    {
      "cell_type": "code",
      "execution_count": null,
      "metadata": {
        "id": "l30QhG0Wrnnd"
      },
      "outputs": [],
      "source": [
        "scaler = MinMaxScaler()\n",
        "X_train = scaler.fit_transform(train_dataset)"
      ]
    },
    {
      "cell_type": "code",
      "execution_count": null,
      "metadata": {
        "id": "C2j4QFqqsUET"
      },
      "outputs": [],
      "source": [
        "from sklearn.svm import LinearSVC"
      ]
    },
    {
      "cell_type": "code",
      "execution_count": null,
      "metadata": {
        "colab": {
          "base_uri": "https://localhost:8080/",
          "height": 74
        },
        "id": "gP6nM705sXXr",
        "outputId": "cc571f14-4da0-4f57-d5dc-a52c5c448992"
      },
      "outputs": [],
      "source": [
        "svc = LinearSVC(dual=False)\n",
        "svc.fit(X_train, train_labels_irony)"
      ]
    },
    {
      "cell_type": "code",
      "execution_count": null,
      "metadata": {
        "colab": {
          "base_uri": "https://localhost:8080/"
        },
        "id": "1y9pB2kWsjoO",
        "outputId": "aa59668f-5775-4ba2-d728-6d3705a69109"
      },
      "outputs": [],
      "source": [
        "train_predictions = svc.predict(X_train)\n",
        "train_predictions"
      ]
    },
    {
      "cell_type": "code",
      "execution_count": null,
      "metadata": {
        "colab": {
          "base_uri": "https://localhost:8080/"
        },
        "id": "8rUhk8NFsk0V",
        "outputId": "7826d65e-0064-4ab1-aa97-98ae717b3e93"
      },
      "outputs": [],
      "source": [
        "print(classification_report(train_labels_irony, train_predictions)) # output_dict=True"
      ]
    },
    {
      "cell_type": "code",
      "execution_count": null,
      "metadata": {
        "colab": {
          "base_uri": "https://localhost:8080/",
          "height": 444
        },
        "id": "UpWAjXt7stO0",
        "outputId": "914a1882-b806-4c22-ec02-c9c95839dc3c"
      },
      "outputs": [],
      "source": [
        "ConfusionMatrixDisplay.from_predictions(train_labels_irony, train_predictions, xticks_rotation='vertical', cmap='Blues');"
      ]
    },
    {
      "cell_type": "code",
      "execution_count": null,
      "metadata": {
        "id": "JFekQhgosz9P"
      },
      "outputs": [],
      "source": [
        "y_train = np.asarray(train_labels_irony)"
      ]
    },
    {
      "cell_type": "code",
      "execution_count": null,
      "metadata": {
        "colab": {
          "base_uri": "https://localhost:8080/"
        },
        "id": "keZsRzGguGxj",
        "outputId": "be4175d6-d793-4dd6-f02a-afedbb0f0492"
      },
      "outputs": [],
      "source": [
        "splitter = KFold(n_splits=5, random_state=42, shuffle=True)\n",
        "folds = list(splitter.split(X_train))\n",
        "\n",
        "for i in range(len(folds)):\n",
        "    print(len(folds[i][0]), len(folds[i][1]))"
      ]
    },
    {
      "cell_type": "code",
      "execution_count": null,
      "metadata": {
        "colab": {
          "base_uri": "https://localhost:8080/"
        },
        "id": "uL1JXkaLuPI7",
        "outputId": "6f2d3c2c-08bf-4b94-a392-9b79b6ac2047"
      },
      "outputs": [],
      "source": [
        "from sklearn.dummy import DummyClassifier\n",
        "\n",
        "all_y_true = []\n",
        "all_y_pred = []\n",
        "\n",
        "for i in range(len(folds)):\n",
        "    train_ids = folds[i][0]\n",
        "    test_ids = folds[i][1]\n",
        "\n",
        "\n",
        "    fold_X_train = X_train[train_ids]\n",
        "    fold_y_train = y_train[train_ids]\n",
        "\n",
        "    fold_X_test = X_train[test_ids]\n",
        "    fold_y_test = y_train[test_ids]\n",
        "\n",
        "    kfold_svc = LinearSVC(dual=False)\n",
        "    kfold_svc.fit(fold_X_train, fold_y_train)\n",
        "    fold_y_pred = kfold_svc.predict(fold_X_test)\n",
        "    fold_accuracy = accuracy_score(fold_y_test, fold_y_pred)\n",
        "\n",
        "    dummy_clf = DummyClassifier(strategy=\"most_frequent\")   \n",
        "    dummy_clf.fit(fold_X_train, fold_y_train)\n",
        "    dummy_score = dummy_clf.score(fold_X_test, fold_y_test)\n",
        "\n",
        "    all_y_true += fold_y_test.tolist()\n",
        "    all_y_pred += fold_y_pred.tolist()\n",
        "    print(f\"Accuracy fold {i+1}: {fold_accuracy}, baseline: {dummy_score}\")\n"
      ]
    },
    {
      "cell_type": "code",
      "execution_count": null,
      "metadata": {
        "colab": {
          "base_uri": "https://localhost:8080/"
        },
        "id": "ZdWF8ieKufaS",
        "outputId": "d7b7be59-4ee3-40ba-9b49-68765b6085dd"
      },
      "outputs": [],
      "source": [
        "print(classification_report(all_y_true, all_y_pred, zero_division=0))"
      ]
    },
    {
      "cell_type": "code",
      "execution_count": null,
      "metadata": {
        "colab": {
          "base_uri": "https://localhost:8080/",
          "height": 444
        },
        "id": "T4imBigpukJL",
        "outputId": "baee241f-0706-49a6-cbec-a9abf62633cb"
      },
      "outputs": [],
      "source": [
        "ConfusionMatrixDisplay.from_predictions(all_y_true, all_y_pred, xticks_rotation='vertical', cmap='Blues');"
      ]
    },
    {
      "cell_type": "code",
      "execution_count": null,
      "metadata": {
        "id": "2I42MTXBumNi"
      },
      "outputs": [],
      "source": [
        "X_test = scaler.fit_transform(test_dataset)"
      ]
    },
    {
      "cell_type": "code",
      "execution_count": null,
      "metadata": {
        "colab": {
          "base_uri": "https://localhost:8080/"
        },
        "id": "7b5Oh3B7usHz",
        "outputId": "5d6eda51-d1ca-4be5-9476-eaf368edfd98"
      },
      "outputs": [],
      "source": [
        "test_predictions = svc.predict(X_test)\n",
        "print(classification_report(test_labels_irony, test_predictions, zero_division=0))"
      ]
    },
    {
      "cell_type": "code",
      "execution_count": null,
      "metadata": {
        "colab": {
          "base_uri": "https://localhost:8080/"
        },
        "id": "2iWYugYH4gga",
        "outputId": "0fd8d4f4-b8b0-4ee4-dd0d-325e2abc0a13"
      },
      "outputs": [],
      "source": [
        "baseline_classifier = DummyClassifier(strategy=\"most_frequent\")\n",
        "baseline_classifier.fit(X_train, y_train)\n",
        "baseline_test_predictions = baseline_classifier.predict(X_test)\n",
        "print(classification_report(test_labels_irony, baseline_test_predictions, zero_division=0))"
      ]
    },
    {
      "cell_type": "code",
      "execution_count": null,
      "metadata": {
        "colab": {
          "base_uri": "https://localhost:8080/"
        },
        "id": "XowTcfS44z1v",
        "outputId": "bfd13be1-43ea-44e3-a69a-e44545b3ca5f"
      },
      "outputs": [],
      "source": [
        "coefs = svc.coef_ \n",
        "coefs.shape"
      ]
    },
    {
      "cell_type": "code",
      "execution_count": null,
      "metadata": {
        "colab": {
          "base_uri": "https://localhost:8080/",
          "height": 447
        },
        "id": "2Ckb2K0Q6VLo",
        "outputId": "debb009a-3b5b-4aca-96e7-40f414ddf22b"
      },
      "outputs": [],
      "source": [
        "import matplotlib.pyplot as plt\n",
        "idx = 0\n",
        "class_coefs = coefs[idx]\n",
        "\n",
        "feature_importances = {feature_name: coef for feature_name, coef in zip(feature_names, class_coefs)}\n",
        "sorted_feature_importances = dict(sorted(feature_importances.items(), key=lambda item: item[1], reverse=True))\n",
        "\n",
        "\n",
        "num_to_plot = 20\n",
        "print(f'Feature importance classe {svc.classes_[idx]}')\n",
        "plt.barh(range(num_to_plot), list(sorted_feature_importances.values())[:num_to_plot], align='center')\n",
        "plt.yticks(range(num_to_plot), list(sorted_feature_importances.keys())[:num_to_plot])\n",
        "plt.show()"
      ]
    }
  ],
  "metadata": {
    "colab": {
      "provenance": []
    },
    "kernelspec": {
      "display_name": "Python 3",
      "name": "python3"
    },
    "language_info": {
      "codemirror_mode": {
        "name": "ipython",
        "version": 3
      },
      "file_extension": ".py",
      "mimetype": "text/x-python",
      "name": "python",
      "nbconvert_exporter": "python",
      "pygments_lexer": "ipython3",
      "version": "3.10.7"
    }
  },
  "nbformat": 4,
  "nbformat_minor": 0
}
